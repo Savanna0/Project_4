{
 "cells": [
  {
   "cell_type": "code",
   "execution_count": 3,
   "id": "36104ca0-774d-4445-aadf-75a692928b5c",
   "metadata": {},
   "outputs": [],
   "source": [
    "import pandas as pd\n",
    "from sqlalchemy import create_engine\n",
    "from sqlalchemy.orm import sessionmaker\n",
    "from sqlalchemy import text\n",
    "from sqlalchemy import create_engine, func\n",
    "from sklearn.linear_model import LinearRegression\n",
    "from sklearn.preprocessing import StandardScaler\n",
    "from sklearn.model_selection import train_test_split\n",
    "import hvplot.pandas\n",
    "# Create an engine\n",
    "engine = create_engine('sqlite:///mydatabase.db')\n",
    "\n",
    "# Read the CSV file into a DataFrame\n",
    "df = pd.read_csv('Resources/cleaned_housing_market_data.csv')\n",
    "\n",
    "# Load the DataFrame into the database\n",
    "df.to_sql('table_name', con=engine, if_exists='replace', index=False)\n",
    "Session = sessionmaker(bind=engine)\n",
    "session = Session()\n",
    "\n",
    "pd.set_option('display.max_columns', None)\n",
    "pd.set_option('display.max_rows', 100)"
   ]
  },
  {
   "cell_type": "code",
   "execution_count": 6,
   "id": "c0d43113-f400-4f5b-a51c-1220ddb225ea",
   "metadata": {},
   "outputs": [],
   "source": [
    "query_1 = 'SELECT * FROM table_name'"
   ]
  },
  {
   "cell_type": "code",
   "execution_count": 7,
   "id": "eaf368ea-6fc1-475f-9e58-dccbebd60988",
   "metadata": {},
   "outputs": [
    {
     "data": {
      "text/html": [
       "<div>\n",
       "<style scoped>\n",
       "    .dataframe tbody tr th:only-of-type {\n",
       "        vertical-align: middle;\n",
       "    }\n",
       "\n",
       "    .dataframe tbody tr th {\n",
       "        vertical-align: top;\n",
       "    }\n",
       "\n",
       "    .dataframe thead th {\n",
       "        text-align: right;\n",
       "    }\n",
       "</style>\n",
       "<table border=\"1\" class=\"dataframe\">\n",
       "  <thead>\n",
       "    <tr style=\"text-align: right;\">\n",
       "      <th></th>\n",
       "      <th>Year</th>\n",
       "      <th>Month</th>\n",
       "      <th>County FIPS</th>\n",
       "      <th>County Name</th>\n",
       "      <th>Active Listing Count</th>\n",
       "      <th>Median Days on Market</th>\n",
       "      <th>New Listing Count</th>\n",
       "      <th>Median List Price Per Sqft</th>\n",
       "      <th>Median Sqft</th>\n",
       "      <th>Avg Listing Price</th>\n",
       "      <th>Total Listing Count</th>\n",
       "    </tr>\n",
       "  </thead>\n",
       "  <tbody>\n",
       "    <tr>\n",
       "      <th>0</th>\n",
       "      <td>2024</td>\n",
       "      <td>10</td>\n",
       "      <td>18049</td>\n",
       "      <td>fulton, in</td>\n",
       "      <td>45.0</td>\n",
       "      <td>54.0</td>\n",
       "      <td>14.0</td>\n",
       "      <td>146.0</td>\n",
       "      <td>2102.0</td>\n",
       "      <td>363246.0</td>\n",
       "      <td>61.0</td>\n",
       "    </tr>\n",
       "    <tr>\n",
       "      <th>1</th>\n",
       "      <td>2024</td>\n",
       "      <td>10</td>\n",
       "      <td>13027</td>\n",
       "      <td>brooks, ga</td>\n",
       "      <td>25.0</td>\n",
       "      <td>60.0</td>\n",
       "      <td>4.0</td>\n",
       "      <td>139.0</td>\n",
       "      <td>1729.0</td>\n",
       "      <td>295232.0</td>\n",
       "      <td>26.0</td>\n",
       "    </tr>\n",
       "    <tr>\n",
       "      <th>2</th>\n",
       "      <td>2024</td>\n",
       "      <td>10</td>\n",
       "      <td>25027</td>\n",
       "      <td>worcester, ma</td>\n",
       "      <td>1104.0</td>\n",
       "      <td>31.0</td>\n",
       "      <td>874.0</td>\n",
       "      <td>286.0</td>\n",
       "      <td>1985.0</td>\n",
       "      <td>635754.0</td>\n",
       "      <td>1361.0</td>\n",
       "    </tr>\n",
       "    <tr>\n",
       "      <th>3</th>\n",
       "      <td>2024</td>\n",
       "      <td>10</td>\n",
       "      <td>51183</td>\n",
       "      <td>sussex, va</td>\n",
       "      <td>18.0</td>\n",
       "      <td>28.0</td>\n",
       "      <td>8.0</td>\n",
       "      <td>169.0</td>\n",
       "      <td>1764.0</td>\n",
       "      <td>379463.0</td>\n",
       "      <td>25.0</td>\n",
       "    </tr>\n",
       "    <tr>\n",
       "      <th>4</th>\n",
       "      <td>2024</td>\n",
       "      <td>10</td>\n",
       "      <td>53011</td>\n",
       "      <td>clark, wa</td>\n",
       "      <td>1474.0</td>\n",
       "      <td>58.0</td>\n",
       "      <td>604.0</td>\n",
       "      <td>309.0</td>\n",
       "      <td>2225.0</td>\n",
       "      <td>847493.0</td>\n",
       "      <td>2292.0</td>\n",
       "    </tr>\n",
       "  </tbody>\n",
       "</table>\n",
       "</div>"
      ],
      "text/plain": [
       "   Year  Month  County FIPS    County Name  Active Listing Count  \\\n",
       "0  2024     10        18049     fulton, in                  45.0   \n",
       "1  2024     10        13027     brooks, ga                  25.0   \n",
       "2  2024     10        25027  worcester, ma                1104.0   \n",
       "3  2024     10        51183     sussex, va                  18.0   \n",
       "4  2024     10        53011      clark, wa                1474.0   \n",
       "\n",
       "   Median Days on Market  New Listing Count  Median List Price Per Sqft  \\\n",
       "0                   54.0               14.0                       146.0   \n",
       "1                   60.0                4.0                       139.0   \n",
       "2                   31.0              874.0                       286.0   \n",
       "3                   28.0                8.0                       169.0   \n",
       "4                   58.0              604.0                       309.0   \n",
       "\n",
       "   Median Sqft  Avg Listing Price  Total Listing Count  \n",
       "0       2102.0           363246.0                 61.0  \n",
       "1       1729.0           295232.0                 26.0  \n",
       "2       1985.0           635754.0               1361.0  \n",
       "3       1764.0           379463.0                 25.0  \n",
       "4       2225.0           847493.0               2292.0  "
      ]
     },
     "execution_count": 7,
     "metadata": {},
     "output_type": "execute_result"
    }
   ],
   "source": [
    "result = session.execute(text(query_1))\n",
    "\n",
    "df_result= pd.DataFrame(result)\n",
    "df_result.head()\n",
    "#for row in result:\n",
    " #   print(row)\n"
   ]
  },
  {
   "cell_type": "code",
   "execution_count": 9,
   "id": "d7410fba-8da4-4802-90b5-27085c056802",
   "metadata": {},
   "outputs": [
    {
     "name": "stdout",
     "output_type": "stream",
     "text": [
      "<class 'pandas.core.frame.DataFrame'>\n",
      "RangeIndex: 220766 entries, 0 to 220765\n",
      "Data columns (total 11 columns):\n",
      " #   Column                      Non-Null Count   Dtype  \n",
      "---  ------                      --------------   -----  \n",
      " 0   Year                        220766 non-null  int64  \n",
      " 1   Month                       220766 non-null  int64  \n",
      " 2   County FIPS                 220766 non-null  int64  \n",
      " 3   County Name                 220766 non-null  object \n",
      " 4   Active Listing Count        220766 non-null  float64\n",
      " 5   Median Days on Market       220766 non-null  float64\n",
      " 6   New Listing Count           220766 non-null  float64\n",
      " 7   Median List Price Per Sqft  220766 non-null  float64\n",
      " 8   Median Sqft                 220766 non-null  float64\n",
      " 9   Avg Listing Price           220766 non-null  float64\n",
      " 10  Total Listing Count         220766 non-null  float64\n",
      "dtypes: float64(7), int64(3), object(1)\n",
      "memory usage: 18.5+ MB\n"
     ]
    }
   ],
   "source": [
    "df_result.info()"
   ]
  },
  {
   "cell_type": "code",
   "execution_count": 10,
   "id": "4845ea46-c9c8-4faf-b980-10fe8423b712",
   "metadata": {},
   "outputs": [
    {
     "data": {
      "text/plain": [
       "County FIPS\n",
       "24015    100\n",
       "9007     100\n",
       "48201    100\n",
       "48479    100\n",
       "51740    100\n",
       "        ... \n",
       "51600     10\n",
       "40025     10\n",
       "51690      7\n",
       "31117      3\n",
       "48261      2\n",
       "Name: count, Length: 3139, dtype: int64"
      ]
     },
     "execution_count": 10,
     "metadata": {},
     "output_type": "execute_result"
    }
   ],
   "source": [
    "df['County FIPS'].value_counts()"
   ]
  },
  {
   "cell_type": "code",
   "execution_count": null,
   "id": "9c96aac7-f8d7-46d0-9e27-deca9f184258",
   "metadata": {},
   "outputs": [],
   "source": []
  }
 ],
 "metadata": {
  "kernelspec": {
   "display_name": "Python 3 (ipykernel)",
   "language": "python",
   "name": "python3"
  },
  "language_info": {
   "codemirror_mode": {
    "name": "ipython",
    "version": 3
   },
   "file_extension": ".py",
   "mimetype": "text/x-python",
   "name": "python",
   "nbconvert_exporter": "python",
   "pygments_lexer": "ipython3",
   "version": "3.11.7"
  }
 },
 "nbformat": 4,
 "nbformat_minor": 5
}
