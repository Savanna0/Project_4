{
 "cells": [
  {
   "cell_type": "code",
   "execution_count": 9,
   "id": "36104ca0-774d-4445-aadf-75a692928b5c",
   "metadata": {},
   "outputs": [],
   "source": [
    "import pandas as pd\n",
    "from sqlalchemy import create_engine\n",
    "from sqlalchemy.orm import sessionmaker\n",
    "from sqlalchemy import text\n",
    "# Create an engine\n",
    "engine = create_engine('sqlite:///mydatabase.db')\n",
    "\n",
    "# Read the CSV file into a DataFrame\n",
    "df = pd.read_csv('Resource/RDC_Inventory_Core_Metrics_County_History.csv')\n",
    "\n",
    "# Load the DataFrame into the database\n",
    "df.to_sql('table_name', con=engine, if_exists='replace', index=False)\n",
    "Session = sessionmaker(bind=engine)\n",
    "session = Session()"
   ]
  },
  {
   "cell_type": "code",
   "execution_count": 10,
   "id": "c0d43113-f400-4f5b-a51c-1220ddb225ea",
   "metadata": {},
   "outputs": [],
   "source": [
    "query_1 = 'SELECT * FROM table_name limit 5'"
   ]
  },
  {
   "cell_type": "code",
   "execution_count": 11,
   "id": "eaf368ea-6fc1-475f-9e58-dccbebd60988",
   "metadata": {},
   "outputs": [
    {
     "name": "stdout",
     "output_type": "stream",
     "text": [
      "(202410, 18049, 'fulton, in', 277500.0, -0.1175, 0.0282, 45.0, 0.0588, 0.4516, 54.0, 0.2994, -0.2332, 14.0, -0.2222, 0.0, 0.0, None, None, 14.0, 0.75, 0.75, 16.0, -0.2619, 0.0333, 146.0, -0.041, 0.007, 2102.0, 0.0155, 0.1075, 363246.0, -0.0473, 0.2132, 61.0, -0.062, 0.3444, 0.3444, -0.1497, -0.1394, 0.0)\n",
      "(202410, 13027, 'brooks, ga', 259900.0, -0.0048, 0.1631, 25.0, -0.1379, 0.087, 60.0, 0.1019, 0.4424, 4.0, -0.7143, -0.6667, 0.0, None, None, 4.0, -0.6667, -0.5, 1.0, -0.3333, -0.8889, 139.0, -0.0059, -0.008, 1729.0, 0.0147, -0.0248, 295232.0, 0.0561, -0.2647, 26.0, -0.15, -0.1905, 0.04, -0.0117, -0.3513, 0.0)\n",
      "(202410, 20171, 'scott, ks', 307000.0, 0.228, 0.5049, 3.0, -0.4, -0.6667, 113.0, 0.3314, -0.1728, 0.0, None, None, 0.0, None, None, 4.0, None, 0.0, 2.0, 0.3333, None, 157.0, 0.0, -0.0123, 1470.0, 0.0, -0.1833, 302333.0, 0.17, -0.1704, 5.0, -0.2857, -0.4444, 0.6667, 0.3667, None, 1.0)\n",
      "(202410, 25027, 'worcester, ma', 546175.0, 0.0116, 0.0762, 1104.0, 0.0755, 0.3826, 31.0, 0.0339, 0.22, 874.0, -0.0781, 0.1592, 20.0, 0.1111, 1.0, 462.0, 0.0087, 0.2692, 255.0, 0.2879, 0.4011, 286.0, 0.0018, 0.0397, 1985.0, 0.0074, 0.0559, 635754.0, -0.0007, 0.0669, 1361.0, 0.0998, 0.3876, 0.231, 0.0381, 0.0031, 0.0)\n",
      "(202410, 18115, 'ohio, in', 288650.0, -0.0503, -0.3349, 9.0, 0.0, 0.4167, 45.0, 0.1603, -0.3946, 6.0, 0.5, 0.5, 0.0, None, None, 8.0, 1.0, 1.0, 1.0, 0.0, -0.6, 155.0, 0.0044, -0.2819, 1428.0, -0.1303, -0.1216, 280752.0, -0.1108, -0.3824, 10.0, 0.0526, 0.1765, 0.1176, 0.0, -0.299, 1.0)\n"
     ]
    }
   ],
   "source": [
    "result = session.execute(text(query_1))\n",
    "for row in result:\n",
    "    print(row)"
   ]
  },
  {
   "cell_type": "code",
   "execution_count": null,
   "id": "11d24217-6388-404a-9755-757d2db2507f",
   "metadata": {},
   "outputs": [],
   "source": []
  }
 ],
 "metadata": {
  "kernelspec": {
   "display_name": "Python 3 (ipykernel)",
   "language": "python",
   "name": "python3"
  },
  "language_info": {
   "codemirror_mode": {
    "name": "ipython",
    "version": 3
   },
   "file_extension": ".py",
   "mimetype": "text/x-python",
   "name": "python",
   "nbconvert_exporter": "python",
   "pygments_lexer": "ipython3",
   "version": "3.11.7"
  }
 },
 "nbformat": 4,
 "nbformat_minor": 5
}
